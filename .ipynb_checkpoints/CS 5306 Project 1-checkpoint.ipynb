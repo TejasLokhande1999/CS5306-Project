{
 "cells": [
  {
   "cell_type": "code",
   "execution_count": 1,
   "id": "4de59d8a",
   "metadata": {},
   "outputs": [],
   "source": [
    "import json\n",
    "import random\n"
   ]
  },
  {
   "cell_type": "markdown",
   "id": "08c1e62d",
   "metadata": {},
   "source": [
    "# Taking random 1000 business entries from the \"yelp_academic_dataset_business\" file"
   ]
  },
  {
   "cell_type": "code",
   "execution_count": 3,
   "id": "c266c523",
   "metadata": {},
   "outputs": [
    {
     "name": "stdout",
     "output_type": "stream",
     "text": [
      "New JSON file with 1000 random businesses created successfully.\n"
     ]
    }
   ],
   "source": [
    "# Initialize an empty list to store businesses\n",
    "businesses = []\n",
    "\n",
    "# Load the data, assuming each line in the file is a separate JSON object\n",
    "file_path = 'D:\\\\yelp_dataset\\\\yelp_academic_dataset_business.json'  # Update this path as necessary\n",
    "\n",
    "with open(file_path, 'r', encoding='utf-8') as file:\n",
    "    for line in file:\n",
    "        # Load each line as a JSON object and append to the list\n",
    "        business = json.loads(line)\n",
    "        businesses.append(business)\n",
    "\n",
    "# Now that we have all businesses loaded, we can select 1000 random businesses\n",
    "random_businesses = random.sample(businesses, min(1000, len(businesses)))\n",
    "\n",
    "# Extract only the required fields\n",
    "filtered_businesses = [{'business_id': business['business_id'], 'stars': business['stars'], 'review_count': business['review_count']} for business in random_businesses]\n",
    "\n",
    "with open('filtered_1000_businesses.json', 'w') as new_file:\n",
    "    json.dump(filtered_businesses, new_file, indent=4)\n",
    "\n",
    "print(\"New JSON file with 1000 random businesses created successfully.\")\n"
   ]
  },
  {
   "cell_type": "markdown",
   "id": "ef066948",
   "metadata": {},
   "source": [
    "# Code to get the oldest year (No need to run)"
   ]
  },
  {
   "cell_type": "code",
   "execution_count": 2,
   "id": "4402cc8b",
   "metadata": {},
   "outputs": [
    {
     "name": "stdout",
     "output_type": "stream",
     "text": [
      "The oldest year in the review file is: 2005\n"
     ]
    }
   ],
   "source": [
    "\n",
    "def find_oldest_year(file_path):\n",
    "    oldest_year = float('inf')  # Initialize with a very large number\n",
    "    with open(file_path, 'r', encoding='utf-8') as file:\n",
    "        for line in file:\n",
    "            try:\n",
    "                review = json.loads(line)\n",
    "                year = int(review['date'].split('-')[0])  # Extract year\n",
    "                if year < oldest_year:\n",
    "                    oldest_year = year\n",
    "            except json.JSONDecodeError:\n",
    "                continue  # Handles possible bad JSON lines\n",
    "    \n",
    "    return oldest_year\n",
    "\n",
    "# Replace 'path_to_your_file' with the actual path to your Review.json file\n",
    "file_path = 'D:\\\\yelp_dataset\\\\yelp_academic_dataset_review.json'\n",
    "oldest_year = find_oldest_year(file_path)\n",
    "print(f\"The oldest year in the review file is: {oldest_year}\")\n"
   ]
  },
  {
   "cell_type": "markdown",
   "id": "53a3fcab",
   "metadata": {},
   "source": [
    "# Code to get a dataframe (Year, total_no_of_users)"
   ]
  },
  {
   "cell_type": "code",
   "execution_count": 6,
   "id": "d8a2ed59",
   "metadata": {},
   "outputs": [
    {
     "name": "stdout",
     "output_type": "stream",
     "text": [
      "    Year  Total_Users_by_year\n",
      "0   2005                  937\n",
      "1   2006                 5423\n",
      "2   2007                15340\n",
      "3   2008                31097\n",
      "4   2009                64911\n",
      "5   2010               109054\n",
      "6   2011               176435\n",
      "7   2012               195955\n",
      "8   2013               209762\n",
      "9   2014               233465\n",
      "10  2015               247850\n",
      "11  2016               217620\n",
      "12  2017               151024\n",
      "13  2018               133568\n",
      "14  2019               104655\n",
      "15  2020                47444\n",
      "16  2021                40485\n",
      "17  2022                 2782\n",
      "18  2023                    0\n",
      "19  2024                    0\n"
     ]
    }
   ],
   "source": [
    "import pandas as pd\n",
    "from collections import defaultdict\n",
    "\n",
    "filepath = 'D:\\\\yelp_dataset\\\\yelp_academic_dataset_user.json'  # Update this path as necessary\n",
    "\n",
    "\n",
    "# Initialize a dictionary to hold the count of users per year\n",
    "user_count_by_year = defaultdict(int)\n",
    "\n",
    "# Open and process the User.json file\n",
    "with open(filepath, 'r', encoding='utf-8') as file:\n",
    "    for line in file:\n",
    "        try:\n",
    "            user = json.loads(line)\n",
    "            year = user['yelping_since'].split('-')[0]  # Extract the year\n",
    "            user_count_by_year[year] += 1\n",
    "        except json.JSONDecodeError:\n",
    "            continue  # Skip lines that are not valid JSON\n",
    "\n",
    "# Create a DataFrame\n",
    "df = pd.DataFrame(list(user_count_by_year.items()), columns=['Year', 'Total_Users_by_year'])\n",
    "\n",
    "# Ensure the DataFrame covers all years from 2005 to the current year\n",
    "all_years = pd.DataFrame({'Year': [str(year) for year in range(2005, 2025)]})\n",
    "df = pd.merge(all_years, df, on='Year', how='left').fillna(0)  # Replace 2025 with the current year + 1\n",
    "\n",
    "# Convert 'Total Users' to integers\n",
    "df['Total_Users_by_year'] = df['Total_Users_by_year'].astype(int)\n",
    "\n",
    "print(df)\n"
   ]
  },
  {
   "cell_type": "code",
   "execution_count": 9,
   "id": "f114d2ab",
   "metadata": {},
   "outputs": [
    {
     "name": "stdout",
     "output_type": "stream",
     "text": [
      "<class 'pandas.core.series.Series'>\n"
     ]
    }
   ],
   "source": [
    "print(type(df.Total_Users_by_year))"
   ]
  },
  {
   "cell_type": "code",
   "execution_count": 10,
   "id": "9cac9fcc",
   "metadata": {},
   "outputs": [
    {
     "name": "stdout",
     "output_type": "stream",
     "text": [
      "Year                   object\n",
      "Total_Users_by_year     int32\n",
      "dtype: object\n",
      "Total number of users: 1987807\n"
     ]
    }
   ],
   "source": [
    "# Assuming your DataFrame is named df\n",
    "print(df.dtypes)\n",
    "total_users = df['Total_Users_by_year'].sum()\n",
    "print(f\"Total number of users: {total_users}\")"
   ]
  },
  {
   "cell_type": "markdown",
   "id": "b1d54392",
   "metadata": {},
   "source": [
    "# Code to get dataframe (Year, total no of reviews)"
   ]
  },
  {
   "cell_type": "code",
   "execution_count": 11,
   "id": "70919516",
   "metadata": {},
   "outputs": [
    {
     "name": "stdout",
     "output_type": "stream",
     "text": [
      "    Year  Total_Reviews_by_Year\n",
      "0   2005                    854\n",
      "1   2006                   3853\n",
      "2   2007                  15363\n",
      "3   2008                  48226\n",
      "4   2009                  74387\n",
      "5   2010                 138587\n",
      "6   2011                 230813\n",
      "7   2012                 286570\n",
      "8   2013                 383950\n",
      "9   2014                 522275\n",
      "10  2015                 688415\n",
      "11  2016                 758882\n",
      "12  2017                 820048\n",
      "13  2018                 906362\n",
      "14  2019                 907284\n",
      "15  2020                 554557\n",
      "16  2021                 618189\n",
      "17  2022                  31665\n",
      "18  2023                      0\n",
      "19  2024                      0\n"
     ]
    }
   ],
   "source": [
    "# Initialize a dictionary to hold the count of reviews per year\n",
    "review_count_by_year = defaultdict(int)\n",
    "\n",
    "filepath = 'D:\\\\yelp_dataset\\\\yelp_academic_dataset_review.json'\n",
    "\n",
    "# Open and process the Review.json file\n",
    "with open(filepath, 'r', encoding='utf-8') as file:\n",
    "    for line in file:\n",
    "        try:\n",
    "            review = json.loads(line)\n",
    "            year = review['date'].split('-')[0]  # Extract the year\n",
    "            review_count_by_year[year] += 1\n",
    "        except json.JSONDecodeError:\n",
    "            continue  # Skip lines that are not valid JSON\n",
    "\n",
    "# Create a DataFrame\n",
    "df_reviews = pd.DataFrame(list(review_count_by_year.items()), columns=['Year', 'Total_Reviews_by_Year'])\n",
    "\n",
    "# Ensure the DataFrame covers all years from 2005 to the current year\n",
    "current_year = pd.to_datetime(\"now\").year\n",
    "all_years = pd.DataFrame({'Year': [str(year) for year in range(2005, current_year+1)]})\n",
    "df_reviews = pd.merge(all_years, df_reviews, on='Year', how='left').fillna(0)\n",
    "\n",
    "# Convert 'Total_Reviews_by_Year' to integers\n",
    "df_reviews['Total_Reviews_by_Year'] = df_reviews['Total_Reviews_by_Year'].astype(int)\n",
    "\n",
    "print(df_reviews)\n"
   ]
  },
  {
   "cell_type": "code",
   "execution_count": 13,
   "id": "d7e03370",
   "metadata": {},
   "outputs": [
    {
     "name": "stdout",
     "output_type": "stream",
     "text": [
      "Year                     object\n",
      "Total_Reviews_by_Year     int32\n",
      "dtype: object\n",
      "Total number of reviews: 6990280\n"
     ]
    }
   ],
   "source": [
    "# Assuming your DataFrame is named df\n",
    "print(df_reviews.dtypes)\n",
    "total_reviews = df_reviews['Total_Reviews_by_Year'].sum()\n",
    "print(f\"Total number of reviews: {total_reviews}\")"
   ]
  },
  {
   "cell_type": "code",
   "execution_count": 18,
   "id": "0122a3e2",
   "metadata": {},
   "outputs": [
    {
     "name": "stdout",
     "output_type": "stream",
     "text": [
      "    Year   Users  Reviews\n",
      "0   2005     937      854\n",
      "1   2006    5423     3853\n",
      "2   2007   15340    15363\n",
      "3   2008   31097    48226\n",
      "4   2009   64911    74387\n",
      "5   2010  109054   138587\n",
      "6   2011  176435   230813\n",
      "7   2012  195955   286570\n",
      "8   2013  209762   383950\n",
      "9   2014  233465   522275\n",
      "10  2015  247850   688415\n",
      "11  2016  217620   758882\n",
      "12  2017  151024   820048\n",
      "13  2018  133568   906362\n",
      "14  2019  104655   907284\n",
      "15  2020   47444   554557\n",
      "16  2021   40485   618189\n",
      "17  2022    2782    31665\n"
     ]
    }
   ],
   "source": [
    "# Merging df and df_reviews on the 'Year' column\n",
    "merged_df = pd.merge(df, df_reviews, on='Year', how='outer')\n",
    "\n",
    "# Renaming columns to 'Year', 'Users', and 'Reviews'\n",
    "merged_df.columns = ['Year', 'Users', 'Reviews']\n",
    "\n",
    "# Fill NaN values with 0 (assuming missing values mean no users or reviews for those years)\n",
    "merged_df = merged_df.fillna(0)\n",
    "\n",
    "# Convert 'Users' and 'Reviews' columns to integers\n",
    "merged_df['Users'] = merged_df['Users'].astype(int)\n",
    "merged_df['Reviews'] = merged_df['Reviews'].astype(int)\n",
    "# Using .iloc to select all rows except the last two\n",
    "merged_df = merged_df.iloc[:-2]\n",
    "\n",
    "print(merged_df)\n"
   ]
  },
  {
   "cell_type": "code",
   "execution_count": null,
   "id": "80fbc1f8",
   "metadata": {},
   "outputs": [],
   "source": []
  }
 ],
 "metadata": {
  "kernelspec": {
   "display_name": "Python 3 (ipykernel)",
   "language": "python",
   "name": "python3"
  },
  "language_info": {
   "codemirror_mode": {
    "name": "ipython",
    "version": 3
   },
   "file_extension": ".py",
   "mimetype": "text/x-python",
   "name": "python",
   "nbconvert_exporter": "python",
   "pygments_lexer": "ipython3",
   "version": "3.8.18"
  }
 },
 "nbformat": 4,
 "nbformat_minor": 5
}
