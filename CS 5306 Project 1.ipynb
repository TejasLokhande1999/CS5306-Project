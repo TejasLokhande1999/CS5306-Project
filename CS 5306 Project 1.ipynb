{
 "cells": [
  {
   "cell_type": "code",
   "execution_count": 1,
   "id": "4de59d8a",
   "metadata": {},
   "outputs": [],
   "source": [
    "import json\n",
    "import random\n"
   ]
  },
  {
   "cell_type": "markdown",
   "id": "08c1e62d",
   "metadata": {},
   "source": [
    "# Taking random 1000 business entries from the \"yelp_academic_dataset_business\" file"
   ]
  },
  {
   "cell_type": "code",
   "execution_count": 3,
   "id": "c266c523",
   "metadata": {},
   "outputs": [
    {
     "name": "stdout",
     "output_type": "stream",
     "text": [
      "New JSON file with 1000 random businesses created successfully.\n"
     ]
    }
   ],
   "source": [
    "# Initialize an empty list to store businesses\n",
    "businesses = []\n",
    "\n",
    "# Load the data, assuming each line in the file is a separate JSON object\n",
    "file_path = 'D:\\\\yelp_dataset\\\\yelp_academic_dataset_business.json'  # Update this path as necessary\n",
    "\n",
    "with open(file_path, 'r', encoding='utf-8') as file:\n",
    "    for line in file:\n",
    "        # Load each line as a JSON object and append to the list\n",
    "        business = json.loads(line)\n",
    "        businesses.append(business)\n",
    "\n",
    "# Now that we have all businesses loaded, we can select 1000 random businesses\n",
    "random_businesses = random.sample(businesses, min(1000, len(businesses)))\n",
    "\n",
    "# Extract only the required fields\n",
    "filtered_businesses = [{'business_id': business['business_id'], 'stars': business['stars'], 'review_count': business['review_count']} for business in random_businesses]\n",
    "\n",
    "with open('filtered_1000_businesses.json', 'w') as new_file:\n",
    "    json.dump(filtered_businesses, new_file, indent=4)\n",
    "\n",
    "print(\"New JSON file with 1000 random businesses created successfully.\")\n"
   ]
  },
  {
   "cell_type": "code",
   "execution_count": null,
   "id": "4402cc8b",
   "metadata": {},
   "outputs": [],
   "source": []
  }
 ],
 "metadata": {
  "kernelspec": {
   "display_name": "Python 3 (ipykernel)",
   "language": "python",
   "name": "python3"
  },
  "language_info": {
   "codemirror_mode": {
    "name": "ipython",
    "version": 3
   },
   "file_extension": ".py",
   "mimetype": "text/x-python",
   "name": "python",
   "nbconvert_exporter": "python",
   "pygments_lexer": "ipython3",
   "version": "3.8.18"
  }
 },
 "nbformat": 4,
 "nbformat_minor": 5
}
